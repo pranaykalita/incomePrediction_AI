{
  "nbformat": 4,
  "nbformat_minor": 0,
  "metadata": {
    "colab": {
      "private_outputs": true,
      "provenance": [],
      "toc_visible": true
    },
    "kernelspec": {
      "name": "python3",
      "display_name": "Python 3"
    },
    "language_info": {
      "name": "python"
    },
    "gpuClass": "standard"
  },
  "cells": [
    {
      "cell_type": "code",
      "source": [
        "!pip3 install keras-visualizer\n",
        "!pip3 install livelossplot\n",
        "# !pip3 install matplotlib --upgrade"
      ],
      "metadata": {
        "id": "1FlC7j_3bu1J"
      },
      "execution_count": null,
      "outputs": []
    },
    {
      "cell_type": "markdown",
      "source": [
        "# New Section"
      ],
      "metadata": {
        "id": "U5c-_qw4SGHE"
      }
    },
    {
      "cell_type": "code",
      "execution_count": null,
      "metadata": {
        "id": "wZA82wbckCR6"
      },
      "outputs": [],
      "source": [
        "import warnings\n",
        "warnings.filterwarnings(\"ignore\")\n",
        "\n",
        "import pandas as pd\n",
        "import numpy as np\n",
        "import seaborn as sns\n",
        "import matplotlib.pyplot  as plt\n",
        "\n",
        "from google.colab import drive\n",
        "from collections import Counter\n",
        "\n",
        "import pickle\n",
        "import joblib\n",
        "\n",
        "from sklearn.impute import SimpleImputer\n",
        "from sklearn.preprocessing import LabelEncoder,MinMaxScaler\n",
        "from sklearn.model_selection import train_test_split,GridSearchCV,cross_val_score\n",
        "from sklearn.metrics import confusion_matrix,plot_confusion_matrix,accuracy_score,r2_score,classification_report,mean_squared_error\n",
        "from math import sqrt"
      ]
    },
    {
      "cell_type": "code",
      "source": [
        "drive.mount('/content/drive')"
      ],
      "metadata": {
        "id": "QARhIMMNk2Nb"
      },
      "execution_count": null,
      "outputs": []
    },
    {
      "cell_type": "code",
      "source": [
        "ds = '/content/drive/MyDrive/project/dataset/dataset.csv'\n",
        "ds = pd.read_csv(ds)\n",
        "ds.head()"
      ],
      "metadata": {
        "id": "XnsDFTxulFDR"
      },
      "execution_count": null,
      "outputs": []
    },
    {
      "cell_type": "code",
      "source": [
        "ds.rename(columns = {'hours.per.week':'workHour'}, inplace = True)\n",
        "ds.rename(columns = {'native.country':'Country'}, inplace = True)"
      ],
      "metadata": {
        "id": "iyyvgVRem3KL"
      },
      "execution_count": null,
      "outputs": []
    },
    {
      "cell_type": "code",
      "source": [
        "ds.info()"
      ],
      "metadata": {
        "id": "NkQwGhuOmHiZ"
      },
      "execution_count": null,
      "outputs": []
    },
    {
      "cell_type": "markdown",
      "source": [
        "Take required COLUMNS"
      ],
      "metadata": {
        "id": "yYYAj5HBl3eR"
      }
    },
    {
      "cell_type": "code",
      "source": [
        "headers = ['age','workclass','education','occupation','sex','workHour','Country','income']\n",
        "dataframe  = pd.DataFrame(ds,columns=headers)\n",
        "dataframe.head()"
      ],
      "metadata": {
        "id": "MPPvyiEvmBFy"
      },
      "execution_count": null,
      "outputs": []
    },
    {
      "cell_type": "code",
      "source": [
        "dataframe.info()"
      ],
      "metadata": {
        "id": "73M01FCfN-1N"
      },
      "execution_count": null,
      "outputs": []
    },
    {
      "cell_type": "markdown",
      "source": [
        "Fix Missing Value"
      ],
      "metadata": {
        "id": "MOR_cURa6RNx"
      }
    },
    {
      "cell_type": "code",
      "source": [
        "imputer = SimpleImputer(missing_values='?', strategy='most_frequent')\n",
        "imputer = imputer.fit(dataframe)\n",
        "fdata = imputer.transform(dataframe)\n",
        "\n",
        "df = pd.DataFrame(fdata,columns=headers).astype(dataframe.dtypes.to_dict())\n",
        "df.head()"
      ],
      "metadata": {
        "id": "qFYXn2Oz6Q2R"
      },
      "execution_count": null,
      "outputs": []
    },
    {
      "cell_type": "markdown",
      "source": [
        "Plot Each Column Data"
      ],
      "metadata": {
        "id": "bXJLXCHmoebj"
      }
    },
    {
      "cell_type": "code",
      "source": [
        "fig,axs = plt.subplots(figsize=(20,10))\n",
        "ax1 = sns.countplot(df['workclass'],ax=axs)\n",
        "ax1.set_xticklabels(ax1.get_xticklabels(), rotation=45)\n"
      ],
      "metadata": {
        "id": "mGhg_UgaoU43"
      },
      "execution_count": null,
      "outputs": []
    },
    {
      "cell_type": "code",
      "source": [
        "fig,axs = plt.subplots(figsize=(20,10))\n",
        "ax2 = sns.countplot(df['education'],ax=axs)\n",
        "ax2.set_xticklabels(ax2.get_xticklabels(), rotation=45)\n"
      ],
      "metadata": {
        "id": "uq03e4X8TVVQ"
      },
      "execution_count": null,
      "outputs": []
    },
    {
      "cell_type": "code",
      "source": [
        "fig,axs = plt.subplots(figsize=(20,10))\n",
        "ax3 = sns.countplot(df['occupation'],ax=axs)\n",
        "ax3.set_xticklabels(ax3.get_xticklabels(), rotation=45)\n"
      ],
      "metadata": {
        "id": "url0c7Z4TY5K"
      },
      "execution_count": null,
      "outputs": []
    },
    {
      "cell_type": "code",
      "source": [
        "fig,axs = plt.subplots(figsize=(20,10))\n",
        "ax4 = sns.countplot(df['sex'],ax=axs)\n",
        "ax4.set_xticklabels(ax4.get_xticklabels(), rotation=45)\n"
      ],
      "metadata": {
        "id": "6KP237YcTZ8w"
      },
      "execution_count": null,
      "outputs": []
    },
    {
      "cell_type": "code",
      "source": [
        "fig,axs = plt.subplots(figsize=(20,10))\n",
        "ax5 = sns.countplot(df['Country'],ax=axs)\n",
        "ax5.set_xticklabels(ax5.get_xticklabels(), rotation=45)\n"
      ],
      "metadata": {
        "id": "rRomMvqSTa_G"
      },
      "execution_count": null,
      "outputs": []
    },
    {
      "cell_type": "code",
      "source": [
        "fig,axs = plt.subplots(figsize=(20,10))\n",
        "ax6 = sns.countplot(df['income'],ax=axs)\n",
        "ax6.set_xticklabels(ax6.get_xticklabels(), rotation=45)"
      ],
      "metadata": {
        "id": "Kg8urotXThRA"
      },
      "execution_count": null,
      "outputs": []
    },
    {
      "cell_type": "markdown",
      "source": [
        "check for data Bias "
      ],
      "metadata": {
        "id": "Sx38D9A3VvE_"
      }
    },
    {
      "cell_type": "code",
      "source": [
        "df['income'].value_counts().plot(kind='bar',figsize=(10,6))\n",
        "\n",
        "target = df.values[:,-1]\n",
        "counter = Counter(target)\n",
        "for k,v in counter.items():\n",
        " per = v / len(target) * 100\n",
        " print('Items=%s, Count=%d, Percentage=%.3f%%' % (k, v, per))"
      ],
      "metadata": {
        "id": "9XD5imDpVy8-"
      },
      "execution_count": null,
      "outputs": []
    },
    {
      "cell_type": "code",
      "source": [
        "df['Country'].value_counts().plot(kind='bar',figsize=(10,6))\n",
        "\n",
        "target = df.values[:,-1]\n",
        "counter = Counter(target)\n",
        "for k,v in counter.items():\n",
        " per = v / len(target) * 100\n",
        " print('Items=%s, Count=%d, Percentage=%.3f%%' % (k, v, per))"
      ],
      "metadata": {
        "id": "xqCiX6hmairW"
      },
      "execution_count": null,
      "outputs": []
    },
    {
      "cell_type": "code",
      "source": [
        "df['sex'].value_counts().plot(kind='bar',figsize=(10,6))\n",
        "\n",
        "target = df.values[:,-1]\n",
        "counter = Counter(target)\n",
        "for k,v in counter.items():\n",
        " per = v / len(target) * 100\n",
        " print('Items=%s, Count=%d, Percentage=%.3f%%' % (k, v, per))"
      ],
      "metadata": {
        "id": "N6VDvParamXD"
      },
      "execution_count": null,
      "outputs": []
    },
    {
      "cell_type": "markdown",
      "source": [
        "FIX Bias By populating data from existing dataset using base of income"
      ],
      "metadata": {
        "id": "9A0v-nHsbBFj"
      }
    },
    {
      "cell_type": "code",
      "source": [
        "data_sel =  df[df['income'] == '>50K']\n",
        "new_df = pd.concat([data_sel] * 3,ignore_index=True)\n",
        "df = new_df.append(df[df['income'] == '<=50K'],ignore_index=True)"
      ],
      "metadata": {
        "id": "To6pWwZ0c0QP"
      },
      "execution_count": null,
      "outputs": []
    },
    {
      "cell_type": "code",
      "source": [
        "plt.subplots(figsize=(10,6))\n",
        "ax = sns.countplot(df['income'])\n",
        "\n",
        "target = df.values[:,-1]\n",
        "counter = Counter(target)\n",
        "for k,v in counter.items():\n",
        " per = v / len(target) * 100\n",
        " print('Items=%s, Count=%d, Percentage=%.3f%%' % (k, v, per))"
      ],
      "metadata": {
        "id": "l40oqt-1c33T"
      },
      "execution_count": null,
      "outputs": []
    },
    {
      "cell_type": "markdown",
      "source": [
        " ENCODEcategorical to Numerical"
      ],
      "metadata": {
        "id": "XwskDEIbhjIA"
      }
    },
    {
      "cell_type": "code",
      "source": [
        "le = LabelEncoder()\n",
        "\n",
        "# lebel encode all data which has datatype as object\n",
        "for columns in df.columns[df.dtypes == 'object']:\n",
        "  df[columns] = le.fit_transform(df[columns])\n"
      ],
      "metadata": {
        "id": "p4yOBnmahnxj"
      },
      "execution_count": null,
      "outputs": []
    },
    {
      "cell_type": "code",
      "source": [
        "df.head()"
      ],
      "metadata": {
        "id": "PtFvK_8MA1_3"
      },
      "execution_count": null,
      "outputs": []
    },
    {
      "cell_type": "code",
      "source": [
        "# df.info()\n",
        "# save encoder\n",
        "# pickle.dump(le, open(\"/content/drive/MyDrive/Lbelencode.pkl\", \"wb\"))"
      ],
      "metadata": {
        "id": "Qz9wnJKAA3AI"
      },
      "execution_count": null,
      "outputs": []
    },
    {
      "cell_type": "markdown",
      "source": [
        "DATA COREALATION"
      ],
      "metadata": {
        "id": "o4E0Gdsgh4qU"
      }
    },
    {
      "cell_type": "code",
      "source": [
        "plt.figure(figsize = (16,10))\n",
        "plt.title(\"Correlation between different features of the dataset\", fontsize = 18, fontweight = 'bold')\n",
        "sns.heatmap(df.corr(), cmap = 'Greens_r', annot = True)\n",
        "plt.xticks(fontsize=12, rotation = 90)\n",
        "plt.yticks(fontsize=12, rotation = 90)\n",
        "plt.legend(fontsize=12)"
      ],
      "metadata": {
        "id": "LHVOEDcfhaRg"
      },
      "execution_count": null,
      "outputs": []
    },
    {
      "cell_type": "markdown",
      "source": [
        "SCALE DATA"
      ],
      "metadata": {
        "id": "AY-3trWykNwr"
      }
    },
    {
      "cell_type": "code",
      "source": [
        "scaler = MinMaxScaler()\n",
        "scaleddataset = scaler.fit_transform(df)\n",
        "sdataset = pd.DataFrame(scaleddataset,columns=headers)\n",
        "sdataset.head()"
      ],
      "metadata": {
        "id": "MvG7ukhPkQnr"
      },
      "execution_count": null,
      "outputs": []
    },
    {
      "cell_type": "code",
      "source": [
        "fig, (ax1, ax2) = plt.subplots(ncols=2, figsize=(26, 15))\n",
        "\n",
        "ax1.set_title('Before Scaling')\n",
        "sns.kdeplot(df['age'], ax=ax1)\n",
        "sns.kdeplot(df['workclass'], ax=ax1)\n",
        "sns.kdeplot(df['education'], ax=ax1)\n",
        "sns.kdeplot(df['occupation'], ax=ax1)\n",
        "sns.kdeplot(df['sex'], ax=ax1)\n",
        "sns.kdeplot(df['workHour'], ax=ax1)\n",
        "sns.kdeplot(df['Country'], ax=ax1)\n",
        "sns.kdeplot(df['income'], ax=ax1)\n",
        "\n",
        "ax2.set_title('After Standard Scaler')\n",
        "sns.kdeplot(sdataset['age'], ax=ax2)\n",
        "sns.kdeplot(sdataset['workclass'], ax=ax2)\n",
        "sns.kdeplot(sdataset['education'], ax=ax2)\n",
        "sns.kdeplot(sdataset['occupation'], ax=ax2)\n",
        "sns.kdeplot(sdataset['sex'], ax=ax2)\n",
        "sns.kdeplot(sdataset['workHour'], ax=ax2)\n",
        "sns.kdeplot(sdataset['Country'], ax=ax2)\n",
        "sns.kdeplot(sdataset['income'], ax=ax2)\n",
        "plt.show()"
      ],
      "metadata": {
        "id": "N99DqN6Im0NP"
      },
      "execution_count": null,
      "outputs": []
    },
    {
      "cell_type": "code",
      "source": [
        "# save Scaler\n",
        "# pickle.dump(le, open(\"/content/drive/MyDrive/Scaler.pkl\", \"wb\")) "
      ],
      "metadata": {
        "id": "w4xcRU7L3C9b"
      },
      "execution_count": null,
      "outputs": []
    },
    {
      "cell_type": "code",
      "source": [
        "# pickle.dump(scaler, open(\"/content/drive/MyDrive/project/model/minmax.pkl\", \"wb\"))"
      ],
      "metadata": {
        "id": "vJ5DUpkQt645"
      },
      "execution_count": null,
      "outputs": []
    },
    {
      "cell_type": "markdown",
      "source": [
        "Splitting Data to TRAIN MODEL"
      ],
      "metadata": {
        "id": "OFsCh3Ao4Z9U"
      }
    },
    {
      "cell_type": "code",
      "source": [
        "x_data = np.array(df.drop(columns=['income']))\n",
        "y_data = np.array(df['income'])"
      ],
      "metadata": {
        "id": "XyboOmqA4c77"
      },
      "execution_count": null,
      "outputs": []
    },
    {
      "cell_type": "code",
      "source": [
        "x_train,x_test,y_train,y_test = train_test_split(x_data,y_data,train_size=0.33,random_state=33)"
      ],
      "metadata": {
        "id": "8A9dGACdDEQW"
      },
      "execution_count": null,
      "outputs": []
    },
    {
      "cell_type": "code",
      "source": [
        "print(\"xtrain: \", x_train.shape)\n",
        "print(\"xtest: \", x_test.shape)\n",
        "print(\"ytrain: \", y_train.shape)\n",
        "print(\"ytest: \", y_test.shape)\n"
      ],
      "metadata": {
        "id": "uVSCsAvUhVtA"
      },
      "execution_count": null,
      "outputs": []
    },
    {
      "cell_type": "code",
      "source": [
        "print(\"xtrain: \", x_train)\n",
        "print(\"xtest: \", x_test)\n",
        "print(\"ytrain: \", y_train)\n",
        "print(\"ytest: \", y_test)\n"
      ],
      "metadata": {
        "id": "5czbx77Fj2MB"
      },
      "execution_count": null,
      "outputs": []
    },
    {
      "cell_type": "markdown",
      "source": [
        "\n",
        "```\n",
        "r2_score is used in regression problems, whereas accuracy function is used in classification problem.\n",
        "```"
      ],
      "metadata": {
        "id": "5k6uDtEf0y8B"
      }
    },
    {
      "cell_type": "code",
      "source": [
        "from sklearn.model_selection import GridSearchCV"
      ],
      "metadata": {
        "id": "f4EIpVzvcymZ"
      },
      "execution_count": null,
      "outputs": []
    },
    {
      "cell_type": "markdown",
      "source": [
        "**KNN**"
      ],
      "metadata": {
        "id": "6G_n5qRBbl5K"
      }
    },
    {
      "cell_type": "code",
      "source": [
        "from sklearn.neighbors import KNeighborsRegressor\n",
        "\n",
        "knnparameter = {\n",
        "    'n_neighbors': [3,5,7],\n",
        "    'weights' : ['uniform','distance']\n",
        "}\n",
        "\n",
        "knn = KNeighborsRegressor()\n",
        "\n",
        "grid_search = GridSearchCV(knn,param_grid=knnparameter,cv=7)\n",
        "grid_search.fit(x_train,y_train)\n",
        "print(grid_search.best_params_)"
      ],
      "metadata": {
        "id": "5Jz4XcacXPPY"
      },
      "execution_count": null,
      "outputs": []
    },
    {
      "cell_type": "code",
      "source": [
        "knn_result=pd.DataFrame(grid_search.cv_results_)\n",
        "knn_resulthm= knn_result[['param_n_neighbors' ,'param_weights','mean_test_score']]\n",
        "knn_resulthm= knn_resulthm.pivot('param_n_neighbors' ,'param_weights','mean_test_score')\n",
        "sns.heatmap(knn_resulthm,annot=True,fmt='.3f')"
      ],
      "metadata": {
        "id": "MqQ2vGC6hreI"
      },
      "execution_count": null,
      "outputs": []
    },
    {
      "cell_type": "code",
      "source": [
        "sns.lineplot(data=knn_result, x='param_n_neighbors', y='mean_test_score', hue='param_weights')\n",
        "plt.show()"
      ],
      "metadata": {
        "id": "qgLZ4bM8hjx9"
      },
      "execution_count": null,
      "outputs": []
    },
    {
      "cell_type": "code",
      "source": [
        "knny_pred = grid_search.predict(x_test)\n",
        "print(\"R2 score of model Evaluation:  {:.2f}%\" .format(r2_score(y_test,knny_pred)*100))\n",
        "knnaccuracy = grid_search.best_score_ *100\n",
        "print(\"Accuracy for our training dataset with tuning is : {:.2f}%\".format(knnaccuracy) )\n"
      ],
      "metadata": {
        "id": "UFhQ2UmijV7_"
      },
      "execution_count": null,
      "outputs": []
    },
    {
      "cell_type": "code",
      "source": [
        "knny_pred = np.where(knny_pred>0.5,1,0)\n",
        "print(\"ACcuracy Score:\",accuracy_score(y_test,knny_pred)*100)\n"
      ],
      "metadata": {
        "id": "9MFS1eBFJrMT"
      },
      "execution_count": null,
      "outputs": []
    },
    {
      "cell_type": "code",
      "source": [
        "rmse = sqrt(mean_squared_error(y_test, knny_pred))\n",
        "print(\"Root Mean Squared Error: \", rmse*100)"
      ],
      "metadata": {
        "id": "X3ab4asWLSSL"
      },
      "execution_count": null,
      "outputs": []
    },
    {
      "cell_type": "markdown",
      "source": [
        "**Linear Regression**\n"
      ],
      "metadata": {
        "id": "04MznoXti9l5"
      }
    },
    {
      "cell_type": "code",
      "source": [
        "from sklearn.linear_model import LinearRegression"
      ],
      "metadata": {
        "id": "XcVLXr9lZkQC"
      },
      "execution_count": null,
      "outputs": []
    },
    {
      "cell_type": "code",
      "source": [
        "linparam = {\n",
        "    'fit_intercept': [True, False],\n",
        "    'normalize': [True, False]\n",
        "}\n",
        "linmodel = LinearRegression()\n",
        "\n",
        "linGrid_search = GridSearchCV(linmodel,linparam,cv=5)\n",
        "linGrid_search.fit(x_train, y_train)"
      ],
      "metadata": {
        "id": "AuhoxME2Zqic"
      },
      "execution_count": null,
      "outputs": []
    },
    {
      "cell_type": "code",
      "source": [
        "liny_pred = linGrid_search.predict(x_test)\n",
        "print(\"R2 score of model Evaluation:  {:.2f}%\" .format(r2_score(y_test,liny_pred)*100))\n",
        "linaccuracy = linGrid_search.best_score_ *100\n",
        "print(\"Accuracy for our training dataset with tuning is : {:.2f}%\".format(linaccuracy) )\n"
      ],
      "metadata": {
        "id": "T_dGge_bZ8po"
      },
      "execution_count": null,
      "outputs": []
    },
    {
      "cell_type": "code",
      "source": [
        "liny_pred = np.where(liny_pred>0.5,1,0)\n",
        "print(\"ACcuracy Score:\",accuracy_score(y_test,liny_pred)*100)\n"
      ],
      "metadata": {
        "id": "ZE2KUitPKe_i"
      },
      "execution_count": null,
      "outputs": []
    },
    {
      "cell_type": "code",
      "source": [
        "lrrmse = sqrt(mean_squared_error(y_test, liny_pred))\n",
        "print(\"Root Mean Squared Error: \", lrrmse*100)"
      ],
      "metadata": {
        "id": "e4_NfrC8LcuW"
      },
      "execution_count": null,
      "outputs": []
    },
    {
      "cell_type": "markdown",
      "source": [
        "**XGBOOST**"
      ],
      "metadata": {
        "id": "AatT09NTpoxU"
      }
    },
    {
      "cell_type": "code",
      "source": [
        "import xgboost as xgb"
      ],
      "metadata": {
        "id": "f-u0B91eptew"
      },
      "execution_count": null,
      "outputs": []
    },
    {
      "cell_type": "code",
      "source": [
        "xgbparam = {\n",
        "              'nthread':[4], #when use hyperthread, xgboost may become slower\n",
        "              'objective':['binary:logistic'],\n",
        "              'learning_rate': [0.05], #so called `eta` value\n",
        "              'max_depth': [3,5,6,7],\n",
        "              'min_child_weight': [11],\n",
        "              'silent': [1],\n",
        "              'subsample': [0.8],\n",
        "              'colsample_bytree': [0.7],\n",
        "              'n_estimators': [5,100,250,500], #number of trees, change it to 1000 for better results\n",
        "              'missing':[-999],\n",
        "              'seed': [1337]\n",
        "            }\n",
        "\n",
        "xgbmodel = xgb.XGBClassifier()\n",
        "\n",
        "xgbGrid_search = GridSearchCV(xgbmodel,xgbparam,cv=5,verbose=0)\n",
        "xgbres = xgbGrid_search.fit(x_train,y_train)\n",
        "print(xgbGrid_search.best_params_)"
      ],
      "metadata": {
        "id": "7tDkVKDfsTCn"
      },
      "execution_count": null,
      "outputs": []
    },
    {
      "cell_type": "code",
      "source": [
        "xgby_pred = xgbGrid_search.predict(x_test)\n",
        "print(\"Accuracy score of model Evaluation:  {:.2f}%\" .format(accuracy_score(y_test,xgby_pred)*100))\n",
        "xgbaccscore = xgbGrid_search.best_score_ *100\n",
        "print(\"Accuracy for our training dataset with tuning is : {:.2f}%\".format(xgbaccscore) )"
      ],
      "metadata": {
        "id": "0iG6VBO9xVDV"
      },
      "execution_count": null,
      "outputs": []
    },
    {
      "cell_type": "code",
      "source": [
        "xgb_res=pd.DataFrame(xgbGrid_search.cv_results_)\n",
        "sns.lineplot(data=xgb_res, x='param_max_depth', y='mean_test_score', hue='param_n_estimators')"
      ],
      "metadata": {
        "id": "HH4GOeIE4nyj"
      },
      "execution_count": null,
      "outputs": []
    },
    {
      "cell_type": "code",
      "source": [
        "print(classification_report(y_test,xgby_pred))"
      ],
      "metadata": {
        "id": "IQLX16Q2C26U"
      },
      "execution_count": null,
      "outputs": []
    },
    {
      "cell_type": "code",
      "source": [
        "cm = confusion_matrix(y_test,xgby_pred)\n",
        "plot_confusion_matrix(xgbGrid_search,x_test,y_test)"
      ],
      "metadata": {
        "id": "j-FG1iNeC7c1"
      },
      "execution_count": null,
      "outputs": []
    },
    {
      "cell_type": "code",
      "source": [
        "xgy_pred = np.where(xgby_pred>0.5,1,0)\n",
        "print(\"ACcuracy Score:\",accuracy_score(y_test,xgy_pred)*100)"
      ],
      "metadata": {
        "id": "g9Eeb8SPLv4A"
      },
      "execution_count": null,
      "outputs": []
    },
    {
      "cell_type": "code",
      "source": [
        "xgrmse = sqrt(mean_squared_error(y_test, xgby_pred))\n",
        "print(\"Root Mean Squared Error: \", xgrmse*100)"
      ],
      "metadata": {
        "id": "9HMUmvQ4Lo5G"
      },
      "execution_count": null,
      "outputs": []
    },
    {
      "cell_type": "code",
      "source": [
        "# pickle.dump(xgbGrid_search.best_estimator_, open(\"/content/drive/MyDrive/project/model/XGB.pkl\", \"wb\"))"
      ],
      "metadata": {
        "id": "Z98pV4cITXGu"
      },
      "execution_count": null,
      "outputs": []
    },
    {
      "cell_type": "markdown",
      "source": [
        "**ANN using KERAS**"
      ],
      "metadata": {
        "id": "wkw2YSt091D1"
      }
    },
    {
      "cell_type": "markdown",
      "source": [
        "**ANN MODEL**"
      ],
      "metadata": {
        "id": "IXCVtpPaUWe8"
      }
    },
    {
      "cell_type": "code",
      "source": [
        "import tensorflow as tf\n",
        "from tensorflow.keras.wrappers.scikit_learn import KerasClassifier\n",
        "from tensorflow.keras import Sequential,models,layers\n",
        "from tensorflow.keras.layers import Dense,Activation\n",
        "from keras_visualizer import visualizer \n",
        "\n",
        "from IPython.display import Image\n",
        "\n",
        "from livelossplot import PlotLossesKeras"
      ],
      "metadata": {
        "id": "bKLs5N6ojdLP"
      },
      "execution_count": null,
      "outputs": []
    },
    {
      "cell_type": "markdown",
      "source": [
        "**KERAS ANN**"
      ],
      "metadata": {
        "id": "eD2cF77A0gt6"
      }
    },
    {
      "cell_type": "code",
      "source": [
        "optim =  tf.keras.optimizers.Adam(learning_rate=0.001)\n",
        "plotlosses = PlotLossesKeras()\n",
        "\n",
        "metrics=[\n",
        "    tf.keras.metrics.BinaryAccuracy(name='acc'),\n",
        "    tf.keras.metrics.AUC(name='auc')\n",
        "    ]\n",
        "\n",
        "def create_model(optimizer=optim, hidden_size=16):\n",
        "    Kmodel = Sequential()\n",
        "    Kmodel.add(Dense(units=hidden_size, activation='relu', input_shape=(x_train.shape[1],)))\n",
        "    Kmodel.add(Dense(units=16, activation='relu'))\n",
        "    Kmodel.add(Dense(units=1, activation='sigmoid'))\n",
        "    Kmodel.compile(optimizer=optimizer, loss='binary_crossentropy', metrics=metrics)\n",
        "    return Kmodel\n",
        "\n",
        "Kmodel = KerasClassifier(build_fn=create_model)\n",
        "\n",
        "param_grid = {\n",
        "              'epochs': [50], \n",
        "              'batch_size': [16], \n",
        "              'optimizer': ['adam'], \n",
        "              'hidden_size': [32],\n",
        "              'callbacks' : [plotlosses]\n",
        "              }\n",
        "\n",
        "krsgrid_search = GridSearchCV(estimator=Kmodel, param_grid=param_grid, cv=10,verbose=1)\n",
        "krsgrid_search.fit(x_train, y_train)\n",
        "print(\"Best parameters: \", krsgrid_search.best_params_)"
      ],
      "metadata": {
        "id": "4fcCXJsKwypv"
      },
      "execution_count": null,
      "outputs": []
    },
    {
      "cell_type": "code",
      "source": [
        "print(\"Best parameters: \", krsgrid_search.best_params_)\n",
        "print(\"Best parameters: \", krsgrid_search.best_estimator_)"
      ],
      "metadata": {
        "id": "IYdKQe8s4AkY"
      },
      "execution_count": null,
      "outputs": []
    },
    {
      "cell_type": "markdown",
      "source": [
        "**BUILD MODEL USING BEST PARAMETER**"
      ],
      "metadata": {
        "id": "L7q-0ki17G_X"
      }
    },
    {
      "cell_type": "code",
      "source": [
        "# Build the model using the best parameters\n",
        "plotlosses = PlotLossesKeras()\n",
        "best_params = krsgrid_search.best_params_\n",
        "best_model = create_model(optimizer=best_params['optimizer'], hidden_size=best_params['hidden_size'])\n",
        "fitmodel = best_model.fit(x_train, y_train, epochs=best_params['epochs'], batch_size=best_params['batch_size'],verbose=0,callbacks =[plotlosses])"
      ],
      "metadata": {
        "id": "MQj56UBPBer-"
      },
      "execution_count": null,
      "outputs": []
    },
    {
      "cell_type": "code",
      "source": [
        "# Plot the training and validation accuracy\n",
        "plt.plot(fitmodel.history['acc'])\n",
        "plt.plot(fitmodel.history['auc'])\n",
        "plt.title('Model accuracy')\n",
        "plt.ylabel('Accuracy')\n",
        "plt.xlabel('Epoch')\n",
        "plt.legend(['Train', 'Validation'], loc='upper left')\n",
        "plt.show()"
      ],
      "metadata": {
        "id": "_X2fJYR28UNe"
      },
      "execution_count": null,
      "outputs": []
    },
    {
      "cell_type": "code",
      "source": [
        "best_model.summary()"
      ],
      "metadata": {
        "id": "9BoXVDBg4_sV"
      },
      "execution_count": null,
      "outputs": []
    },
    {
      "cell_type": "code",
      "source": [
        "visualizer(best_model, format='png', filename='Anngraph', view=True)\n",
        "Image(filename='Anngraph.png')"
      ],
      "metadata": {
        "id": "Lf9sOUzi66bN"
      },
      "execution_count": null,
      "outputs": []
    },
    {
      "cell_type": "markdown",
      "source": [
        "PREDICTION EXAMPLE"
      ],
      "metadata": {
        "id": "AoZccqDy9ig5"
      }
    },
    {
      "cell_type": "code",
      "source": [
        "# RMSE OF ALL MODEL\n",
        "\n",
        "print(\"RMSE OF XGBOOST: {:.2f}%\".format(xgrmse*100))\n",
        "print(\"RMSE OF Linear Regression: {:.2f}%\".format(lrrmse*100))\n",
        "print(\"RMSE OF KNN: {:.2f}%\".format(rmse*100))"
      ],
      "metadata": {
        "id": "VQUG7jknM2X0"
      },
      "execution_count": null,
      "outputs": []
    },
    {
      "cell_type": "code",
      "source": [
        "\n",
        "# Create lists with the 3 values and their labels\n",
        "values1 = [xgrmse*100]\n",
        "values2 = [lrrmse*100]\n",
        "values3 = [rmse*100]\n",
        "labels = ['XGBOOST', 'LR', 'KNN']\n",
        "\n",
        "# Create the dataframe\n",
        "df = pd.DataFrame({labels[0]:values1, labels[1]:values2, labels[2]:values3})\n",
        "\n",
        "# Create the graph\n",
        "ax = sns.barplot(data=df)\n",
        "plt.title('Comparison of 3 RNN')\n",
        "\n",
        "# set max range of y-axis to 100\n",
        "plt.ylim(0,100)\n",
        "\n",
        "for i in ax.containers:\n",
        "    ax.bar_label(i,)\n",
        "# Show the graph\n",
        "plt.show()"
      ],
      "metadata": {
        "id": "0mOfomSkQVeQ"
      },
      "execution_count": null,
      "outputs": []
    },
    {
      "cell_type": "markdown",
      "source": [
        "**PREDICTION USING XGBOOST**"
      ],
      "metadata": {
        "id": "7zzq4YB-NtQA"
      }
    },
    {
      "cell_type": "code",
      "source": [
        "data = {\n",
        "       'age' : [54],\n",
        "       'workclass' : ['Private'],\n",
        "       'education' : ['HS-grad'],\n",
        "       'occupation' : ['Exec-managerial'],\n",
        "       'sex' : ['Male'],\n",
        "       'workHour' : [40],\n",
        "       'Country' : ['United-States']\n",
        "    }"
      ],
      "metadata": {
        "id": "EVJ07eR7NtAw"
      },
      "execution_count": null,
      "outputs": []
    },
    {
      "cell_type": "code",
      "source": [
        "testdata = pd.DataFrame(data)\n",
        "for columns in testdata.columns[testdata.dtypes == 'object']:\n",
        "  testdata[columns] = le.fit_transform(testdata[columns])\n",
        "\n",
        "testdata = np.array(testdata)\n",
        "print(testdata)"
      ],
      "metadata": {
        "id": "vS5owXx3OE6C"
      },
      "execution_count": null,
      "outputs": []
    },
    {
      "cell_type": "code",
      "source": [
        "XGBprediction = xgbGrid_search.best_estimator_\n",
        "prediction = XGBprediction.predict(testdata)\n",
        "prediction = np.where(prediction>0.5,1,0)\n",
        "print(\"ACcuracy Score: {:.2f}%\".format(accuracy_score(y_test,prediction)*100))\n",
        "\n",
        "if prediction == 0:\n",
        "  apredictionns = 'Below or Equal to 50,0000Rs'\n",
        "elif prediction == 1:\n",
        "  prediction = 'Above 50,0000Rs'"
      ],
      "metadata": {
        "id": "KcNJPpWQONGK"
      },
      "execution_count": null,
      "outputs": []
    }
  ]
}